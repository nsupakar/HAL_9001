{
 "cells": [
  {
   "cell_type": "markdown",
   "metadata": {},
   "source": [
    "The objective of this exercise is to fit a linear regression model on Black Friday purchase data to predict future purchases.\n",
    "This would include the following steps\n",
    "1)Loading data\n",
    "2)Cleaning data\n",
    "3)Fitting the model\n",
    "4)Predicting future values and finding the accuracy score"
   ]
  },
  {
   "cell_type": "markdown",
   "metadata": {},
   "source": [
    "First step we follow is loading the required packages and loading the data"
   ]
  },
  {
   "cell_type": "code",
   "execution_count": 1,
   "metadata": {},
   "outputs": [],
   "source": [
    "import pandas as pd\n",
    "import numpy as np\n",
    "train=pd.read_csv('black-friday-train.csv')"
   ]
  },
  {
   "cell_type": "markdown",
   "metadata": {},
   "source": [
    "Next step would be to figure out the type of data stored in the table as well as figuring out the column names"
   ]
  },
  {
   "cell_type": "code",
   "execution_count": 2,
   "metadata": {},
   "outputs": [
    {
     "data": {
      "text/html": [
       "<div>\n",
       "<style scoped>\n",
       "    .dataframe tbody tr th:only-of-type {\n",
       "        vertical-align: middle;\n",
       "    }\n",
       "\n",
       "    .dataframe tbody tr th {\n",
       "        vertical-align: top;\n",
       "    }\n",
       "\n",
       "    .dataframe thead th {\n",
       "        text-align: right;\n",
       "    }\n",
       "</style>\n",
       "<table border=\"1\" class=\"dataframe\">\n",
       "  <thead>\n",
       "    <tr style=\"text-align: right;\">\n",
       "      <th></th>\n",
       "      <th>User_ID</th>\n",
       "      <th>Product_ID</th>\n",
       "      <th>Gender</th>\n",
       "      <th>Age</th>\n",
       "      <th>Occupation</th>\n",
       "      <th>City_Category</th>\n",
       "      <th>Stay_In_Current_City_Years</th>\n",
       "      <th>Marital_Status</th>\n",
       "      <th>Product_Category_1</th>\n",
       "      <th>Product_Category_2</th>\n",
       "      <th>Product_Category_3</th>\n",
       "      <th>Purchase</th>\n",
       "    </tr>\n",
       "  </thead>\n",
       "  <tbody>\n",
       "    <tr>\n",
       "      <th>0</th>\n",
       "      <td>1000001</td>\n",
       "      <td>P00069042</td>\n",
       "      <td>F</td>\n",
       "      <td>0-17</td>\n",
       "      <td>10</td>\n",
       "      <td>A</td>\n",
       "      <td>2</td>\n",
       "      <td>0</td>\n",
       "      <td>3</td>\n",
       "      <td>NaN</td>\n",
       "      <td>NaN</td>\n",
       "      <td>8370</td>\n",
       "    </tr>\n",
       "    <tr>\n",
       "      <th>1</th>\n",
       "      <td>1000001</td>\n",
       "      <td>P00248942</td>\n",
       "      <td>F</td>\n",
       "      <td>0-17</td>\n",
       "      <td>10</td>\n",
       "      <td>A</td>\n",
       "      <td>2</td>\n",
       "      <td>0</td>\n",
       "      <td>1</td>\n",
       "      <td>6.0</td>\n",
       "      <td>14.0</td>\n",
       "      <td>15200</td>\n",
       "    </tr>\n",
       "    <tr>\n",
       "      <th>2</th>\n",
       "      <td>1000001</td>\n",
       "      <td>P00087842</td>\n",
       "      <td>F</td>\n",
       "      <td>0-17</td>\n",
       "      <td>10</td>\n",
       "      <td>A</td>\n",
       "      <td>2</td>\n",
       "      <td>0</td>\n",
       "      <td>12</td>\n",
       "      <td>NaN</td>\n",
       "      <td>NaN</td>\n",
       "      <td>1422</td>\n",
       "    </tr>\n",
       "    <tr>\n",
       "      <th>3</th>\n",
       "      <td>1000001</td>\n",
       "      <td>P00085442</td>\n",
       "      <td>F</td>\n",
       "      <td>0-17</td>\n",
       "      <td>10</td>\n",
       "      <td>A</td>\n",
       "      <td>2</td>\n",
       "      <td>0</td>\n",
       "      <td>12</td>\n",
       "      <td>14.0</td>\n",
       "      <td>NaN</td>\n",
       "      <td>1057</td>\n",
       "    </tr>\n",
       "    <tr>\n",
       "      <th>4</th>\n",
       "      <td>1000002</td>\n",
       "      <td>P00285442</td>\n",
       "      <td>M</td>\n",
       "      <td>55+</td>\n",
       "      <td>16</td>\n",
       "      <td>C</td>\n",
       "      <td>4+</td>\n",
       "      <td>0</td>\n",
       "      <td>8</td>\n",
       "      <td>NaN</td>\n",
       "      <td>NaN</td>\n",
       "      <td>7969</td>\n",
       "    </tr>\n",
       "  </tbody>\n",
       "</table>\n",
       "</div>"
      ],
      "text/plain": [
       "   User_ID Product_ID Gender   Age  Occupation City_Category  \\\n",
       "0  1000001  P00069042      F  0-17          10             A   \n",
       "1  1000001  P00248942      F  0-17          10             A   \n",
       "2  1000001  P00087842      F  0-17          10             A   \n",
       "3  1000001  P00085442      F  0-17          10             A   \n",
       "4  1000002  P00285442      M   55+          16             C   \n",
       "\n",
       "  Stay_In_Current_City_Years  Marital_Status  Product_Category_1  \\\n",
       "0                          2               0                   3   \n",
       "1                          2               0                   1   \n",
       "2                          2               0                  12   \n",
       "3                          2               0                  12   \n",
       "4                         4+               0                   8   \n",
       "\n",
       "   Product_Category_2  Product_Category_3  Purchase  \n",
       "0                 NaN                 NaN      8370  \n",
       "1                 6.0                14.0     15200  \n",
       "2                 NaN                 NaN      1422  \n",
       "3                14.0                 NaN      1057  \n",
       "4                 NaN                 NaN      7969  "
      ]
     },
     "execution_count": 2,
     "metadata": {},
     "output_type": "execute_result"
    }
   ],
   "source": [
    "train.head(5)"
   ]
  },
  {
   "cell_type": "code",
   "execution_count": 3,
   "metadata": {},
   "outputs": [
    {
     "data": {
      "text/plain": [
       "Index(['User_ID', 'Product_ID', 'Gender', 'Age', 'Occupation', 'City_Category',\n",
       "       'Stay_In_Current_City_Years', 'Marital_Status', 'Product_Category_1',\n",
       "       'Product_Category_2', 'Product_Category_3', 'Purchase'],\n",
       "      dtype='object')"
      ]
     },
     "execution_count": 3,
     "metadata": {},
     "output_type": "execute_result"
    }
   ],
   "source": [
    "train.columns"
   ]
  },
  {
   "cell_type": "markdown",
   "metadata": {},
   "source": [
    "After this we are going to look at the missing values in each columns"
   ]
  },
  {
   "cell_type": "code",
   "execution_count": 4,
   "metadata": {},
   "outputs": [
    {
     "data": {
      "text/plain": [
       "User_ID                            0\n",
       "Product_ID                         0\n",
       "Gender                             0\n",
       "Age                                0\n",
       "Occupation                         0\n",
       "City_Category                      0\n",
       "Stay_In_Current_City_Years         0\n",
       "Marital_Status                     0\n",
       "Product_Category_1                 0\n",
       "Product_Category_2            173638\n",
       "Product_Category_3            383247\n",
       "Purchase                           0\n",
       "dtype: int64"
      ]
     },
     "execution_count": 4,
     "metadata": {},
     "output_type": "execute_result"
    }
   ],
   "source": [
    "train.isna().sum()"
   ]
  },
  {
   "cell_type": "markdown",
   "metadata": {},
   "source": [
    "We have to handle the missing values in the columns found above. We are changing the missing characteristics to 0 so ensure that it is characterised differently than the existing product characteristics"
   ]
  },
  {
   "cell_type": "code",
   "execution_count": 5,
   "metadata": {},
   "outputs": [],
   "source": [
    "train.Product_Category_3.fillna(0,inplace=True)\n",
    "train.Product_Category_2.fillna(0,inplace=True)"
   ]
  },
  {
   "cell_type": "markdown",
   "metadata": {},
   "source": [
    "The above commands fix our missing values issues. Next we handle Categorical variable. The method used is a label classifier that changes various categories to numbers from 0 to n-1. Next for categories that are not ranked\n",
    "we use OneHotEncoder so that each level of unranked features is treated indeppendently"
   ]
  },
  {
   "cell_type": "code",
   "execution_count": 6,
   "metadata": {},
   "outputs": [
    {
     "name": "stdout",
     "output_type": "stream",
     "text": [
      "User_ID\n",
      "[1000001 1000002 1000003 ... 1004113 1005391 1001529]\n",
      "Product_ID\n",
      "['P00069042' 'P00248942' 'P00087842' ... 'P00370293' 'P00371644'\n",
      " 'P00370853']\n",
      "Gender\n",
      "['F' 'M']\n",
      "Age\n",
      "['0-17' '55+' '26-35' '46-50' '51-55' '36-45' '18-25']\n",
      "Occupation\n",
      "[10 16 15  7 20  9  1 12 17  0  3  4 11  8 19  2 18  5 14 13  6]\n",
      "City_Category\n",
      "['A' 'C' 'B']\n",
      "Stay_In_Current_City_Years\n",
      "['2' '4+' '3' '1' '0']\n",
      "Marital_Status\n",
      "[0 1]\n",
      "Product_Category_1\n",
      "[ 3  1 12  8  5  4  2  6 14 11 13 15  7 16 18 10 17  9 20 19]\n",
      "Product_Category_2\n",
      "[ 0.  6. 14.  2.  8. 15. 16. 11.  5.  3.  4. 12.  9. 10. 17. 13.  7. 18.]\n",
      "Product_Category_3\n",
      "[ 0. 14. 17.  5.  4. 16. 15.  8.  9. 13.  6. 12.  3. 18. 11. 10.]\n",
      "Purchase\n",
      "[ 8370 15200  1422 ...   135   123   613]\n"
     ]
    }
   ],
   "source": [
    "#we use the following code snippet to know the unique values in each column\n",
    "for col in train.columns:\n",
    "    print(col)\n",
    "    print(train.loc[:,col].unique())"
   ]
  },
  {
   "cell_type": "markdown",
   "metadata": {},
   "source": [
    "Now we use label encoder on the columns in 'Labelecol' from string to numeric type"
   ]
  },
  {
   "cell_type": "code",
   "execution_count": 7,
   "metadata": {},
   "outputs": [
    {
     "name": "stdout",
     "output_type": "stream",
     "text": [
      "the encoded matrix is\n",
      "   User_ID Product_ID  Gender  Age  Occupation  City_Category  \\\n",
      "0  1000001  P00069042       0    0          10              0   \n",
      "1  1000001  P00248942       0    0          10              0   \n",
      "2  1000001  P00087842       0    0          10              0   \n",
      "3  1000001  P00085442       0    0          10              0   \n",
      "4  1000002  P00285442       1    6          16              2   \n",
      "5  1000003  P00193542       1    2          15              0   \n",
      "6  1000004  P00184942       1    4           7              1   \n",
      "7  1000004  P00346142       1    4           7              1   \n",
      "8  1000004   P0097242       1    4           7              1   \n",
      "9  1000005  P00274942       1    2          20              0   \n",
      "\n",
      "   Stay_In_Current_City_Years  Marital_Status  Product_Category_1  \\\n",
      "0                           2               0                   3   \n",
      "1                           2               0                   1   \n",
      "2                           2               0                  12   \n",
      "3                           2               0                  12   \n",
      "4                           4               0                   8   \n",
      "5                           3               0                   1   \n",
      "6                           2               1                   1   \n",
      "7                           2               1                   1   \n",
      "8                           2               1                   1   \n",
      "9                           1               1                   8   \n",
      "\n",
      "   Product_Category_2  Product_Category_3  Purchase  \n",
      "0                 0.0                 0.0      8370  \n",
      "1                 6.0                14.0     15200  \n",
      "2                 0.0                 0.0      1422  \n",
      "3                14.0                 0.0      1057  \n",
      "4                 0.0                 0.0      7969  \n",
      "5                 2.0                 0.0     15227  \n",
      "6                 8.0                17.0     19215  \n",
      "7                15.0                 0.0     15854  \n",
      "8                16.0                 0.0     15686  \n",
      "9                 0.0                 0.0      7871  \n"
     ]
    }
   ],
   "source": [
    "from sklearn.preprocessing import LabelEncoder\n",
    "lbe=LabelEncoder()\n",
    "labelcol=['Age','City_Category','Stay_In_Current_City_Years','City_Category','Gender']\n",
    "for col in labelcol:\n",
    "    train.loc[:,col]=lbe.fit_transform(train.loc[:,col])\n",
    "print('the encoded matrix is')\n",
    "print(train.head(10))"
   ]
  },
  {
   "cell_type": "code",
   "execution_count": 8,
   "metadata": {},
   "outputs": [
    {
     "name": "stdout",
     "output_type": "stream",
     "text": [
      "User_ID\n",
      "[1000001 1000002 1000003 ... 1004113 1005391 1001529]\n",
      "Product_ID\n",
      "['P00069042' 'P00248942' 'P00087842' ... 'P00370293' 'P00371644'\n",
      " 'P00370853']\n",
      "Gender\n",
      "[0 1]\n",
      "Age\n",
      "[0 6 2 4 5 3 1]\n",
      "Occupation\n",
      "[10 16 15  7 20  9  1 12 17  0  3  4 11  8 19  2 18  5 14 13  6]\n",
      "City_Category\n",
      "[0 2 1]\n",
      "Stay_In_Current_City_Years\n",
      "[2 4 3 1 0]\n",
      "Marital_Status\n",
      "[0 1]\n",
      "Product_Category_1\n",
      "[ 3  1 12  8  5  4  2  6 14 11 13 15  7 16 18 10 17  9 20 19]\n",
      "Product_Category_2\n",
      "[ 0.  6. 14.  2.  8. 15. 16. 11.  5.  3.  4. 12.  9. 10. 17. 13.  7. 18.]\n",
      "Product_Category_3\n",
      "[ 0. 14. 17.  5.  4. 16. 15.  8.  9. 13.  6. 12.  3. 18. 11. 10.]\n",
      "Purchase\n",
      "[ 8370 15200  1422 ...   135   123   613]\n"
     ]
    }
   ],
   "source": [
    "for col in train.columns:\n",
    "    print(col)\n",
    "    print(train.loc[:,col].unique())"
   ]
  },
  {
   "cell_type": "markdown",
   "metadata": {},
   "source": [
    "We next split the array into X1 and X2. X1 consists of unranked categorical variables that need to be\n",
    "encoded. X2 doesnt need to be prepared. \n",
    "Please note that features User_ID and Product_ID have been dropped because my computer kept throwing a memory error, please add them back if your system can manage it."
   ]
  },
  {
   "cell_type": "code",
   "execution_count": 9,
   "metadata": {},
   "outputs": [
    {
     "name": "stdout",
     "output_type": "stream",
     "text": [
      "X1 matrix\n",
      "   Product_Category_3  Product_Category_2  Marital_Status  Product_Category_1  \\\n",
      "0                 0.0                 0.0               0                   3   \n",
      "1                14.0                 6.0               0                   1   \n",
      "2                 0.0                 0.0               0                  12   \n",
      "3                 0.0                14.0               0                  12   \n",
      "4                 0.0                 0.0               0                   8   \n",
      "5                 0.0                 2.0               0                   1   \n",
      "6                17.0                 8.0               1                   1   \n",
      "7                 0.0                15.0               1                   1   \n",
      "8                 0.0                16.0               1                   1   \n",
      "9                 0.0                 0.0               1                   8   \n",
      "\n",
      "   City_Category  Gender  \n",
      "0              0       0  \n",
      "1              0       0  \n",
      "2              0       0  \n",
      "3              0       0  \n",
      "4              2       1  \n",
      "5              0       1  \n",
      "6              1       1  \n",
      "7              1       1  \n",
      "8              1       1  \n",
      "9              0       1  \n"
     ]
    }
   ],
   "source": [
    "col=['Product_Category_3','Product_Category_2','Marital_Status','Product_Category_1',\n",
    "     'City_Category','Gender']\n",
    "col1=['Age','Occupation','Stay_In_Current_City_Years']\n",
    "X1=train[col]\n",
    "X2=train[col1]\n",
    "Y=train['Purchase']#dependent variable\n",
    "print('X1 matrix')\n",
    "print(X1.head(10))"
   ]
  },
  {
   "cell_type": "markdown",
   "metadata": {},
   "source": [
    "Now we One hot encode X1. Please note that the ourput of the operation is an array and thus we need to convert it\n",
    "to a Dataframe because we need to join it with x2 down thw line"
   ]
  },
  {
   "cell_type": "code",
   "execution_count": 11,
   "metadata": {},
   "outputs": [
    {
     "name": "stderr",
     "output_type": "stream",
     "text": [
      "C:\\ProgramData\\Anaconda3\\lib\\site-packages\\sklearn\\preprocessing\\_encoders.py:371: FutureWarning: The handling of integer data will change in version 0.22. Currently, the categories are determined based on the range [0, max(values)], while in the future they will be determined based on the unique values.\n",
      "If you want the future behaviour and silence this warning, you can specify \"categories='auto'\".\n",
      "In case you used a LabelEncoder before this OneHotEncoder to convert the categories to integers, then you can now use the OneHotEncoder directly.\n",
      "  warnings.warn(msg, FutureWarning)\n"
     ]
    },
    {
     "name": "stdout",
     "output_type": "stream",
     "text": [
      "new encoded X1\n",
      "    0    1    2    3    4    5    6    7    8    9   ...   51   52   53   54  \\\n",
      "0  1.0  0.0  0.0  0.0  0.0  0.0  0.0  0.0  0.0  0.0  ...  0.0  0.0  0.0  0.0   \n",
      "1  0.0  0.0  0.0  0.0  0.0  0.0  0.0  0.0  0.0  0.0  ...  0.0  0.0  0.0  0.0   \n",
      "2  1.0  0.0  0.0  0.0  0.0  0.0  0.0  0.0  0.0  0.0  ...  0.0  0.0  0.0  0.0   \n",
      "3  1.0  0.0  0.0  0.0  0.0  0.0  0.0  0.0  0.0  0.0  ...  0.0  0.0  0.0  0.0   \n",
      "4  1.0  0.0  0.0  0.0  0.0  0.0  0.0  0.0  0.0  0.0  ...  0.0  0.0  0.0  0.0   \n",
      "5  1.0  0.0  0.0  0.0  0.0  0.0  0.0  0.0  0.0  0.0  ...  0.0  0.0  0.0  0.0   \n",
      "6  0.0  0.0  0.0  0.0  0.0  0.0  0.0  0.0  0.0  0.0  ...  0.0  0.0  0.0  0.0   \n",
      "7  1.0  0.0  0.0  0.0  0.0  0.0  0.0  0.0  0.0  0.0  ...  0.0  0.0  0.0  0.0   \n",
      "8  1.0  0.0  0.0  0.0  0.0  0.0  0.0  0.0  0.0  0.0  ...  0.0  0.0  0.0  0.0   \n",
      "9  1.0  0.0  0.0  0.0  0.0  0.0  0.0  0.0  0.0  0.0  ...  0.0  0.0  0.0  0.0   \n",
      "\n",
      "    55   56   57   58   59   60  \n",
      "0  0.0  1.0  0.0  0.0  1.0  0.0  \n",
      "1  0.0  1.0  0.0  0.0  1.0  0.0  \n",
      "2  0.0  1.0  0.0  0.0  1.0  0.0  \n",
      "3  0.0  1.0  0.0  0.0  1.0  0.0  \n",
      "4  0.0  0.0  0.0  1.0  0.0  1.0  \n",
      "5  0.0  1.0  0.0  0.0  0.0  1.0  \n",
      "6  0.0  0.0  1.0  0.0  0.0  1.0  \n",
      "7  0.0  0.0  1.0  0.0  0.0  1.0  \n",
      "8  0.0  0.0  1.0  0.0  0.0  1.0  \n",
      "9  0.0  1.0  0.0  0.0  0.0  1.0  \n",
      "\n",
      "[10 rows x 61 columns]\n"
     ]
    }
   ],
   "source": [
    "from sklearn.preprocessing import OneHotEncoder\n",
    "one=OneHotEncoder(sparse=False)\n",
    "X1=one.fit_transform(X1)\n",
    "X1=pd.DataFrame(X1)\n",
    "print('new encoded X1')\n",
    "print(X1.head(10))"
   ]
  },
  {
   "cell_type": "markdown",
   "metadata": {},
   "source": [
    "Join function joins dataframes along the rows. We use this to prepare the final feature matrix to be\n",
    "used for training the model i.e X"
   ]
  },
  {
   "cell_type": "code",
   "execution_count": 12,
   "metadata": {},
   "outputs": [
    {
     "name": "stdout",
     "output_type": "stream",
     "text": [
      "Final feature matrix\n",
      "   Age  Occupation  Stay_In_Current_City_Years    0    1    2    3    4    5  \\\n",
      "0    0          10                           2  1.0  0.0  0.0  0.0  0.0  0.0   \n",
      "1    0          10                           2  0.0  0.0  0.0  0.0  0.0  0.0   \n",
      "2    0          10                           2  1.0  0.0  0.0  0.0  0.0  0.0   \n",
      "3    0          10                           2  1.0  0.0  0.0  0.0  0.0  0.0   \n",
      "4    6          16                           4  1.0  0.0  0.0  0.0  0.0  0.0   \n",
      "\n",
      "     6  ...   51   52   53   54   55   56   57   58   59   60  \n",
      "0  0.0  ...  0.0  0.0  0.0  0.0  0.0  1.0  0.0  0.0  1.0  0.0  \n",
      "1  0.0  ...  0.0  0.0  0.0  0.0  0.0  1.0  0.0  0.0  1.0  0.0  \n",
      "2  0.0  ...  0.0  0.0  0.0  0.0  0.0  1.0  0.0  0.0  1.0  0.0  \n",
      "3  0.0  ...  0.0  0.0  0.0  0.0  0.0  1.0  0.0  0.0  1.0  0.0  \n",
      "4  0.0  ...  0.0  0.0  0.0  0.0  0.0  0.0  0.0  1.0  0.0  1.0  \n",
      "\n",
      "[5 rows x 64 columns]\n"
     ]
    }
   ],
   "source": [
    "X=X2.join(X1)\n",
    "print('Final feature matrix')\n",
    "print(X.head(5))"
   ]
  },
  {
   "cell_type": "markdown",
   "metadata": {},
   "source": [
    "Now we train the linear model on the feature matrix and the dependent variable"
   ]
  },
  {
   "cell_type": "code",
   "execution_count": 13,
   "metadata": {},
   "outputs": [
    {
     "data": {
      "text/plain": [
       "LinearRegression(copy_X=True, fit_intercept=True, n_jobs=None,\n",
       "         normalize=False)"
      ]
     },
     "execution_count": 13,
     "metadata": {},
     "output_type": "execute_result"
    }
   ],
   "source": [
    "from sklearn.linear_model import LinearRegression\n",
    "lr=LinearRegression()\n",
    "lr.fit(X,Y)"
   ]
  },
  {
   "cell_type": "markdown",
   "metadata": {},
   "source": [
    "Finally we find our the accuracy score of the model fit"
   ]
  },
  {
   "cell_type": "code",
   "execution_count": 14,
   "metadata": {},
   "outputs": [
    {
     "data": {
      "text/plain": [
       "0.6472497961009319"
      ]
     },
     "execution_count": 14,
     "metadata": {},
     "output_type": "execute_result"
    }
   ],
   "source": [
    "lr.score(X,Y)"
   ]
  },
  {
   "cell_type": "code",
   "execution_count": null,
   "metadata": {},
   "outputs": [],
   "source": []
  }
 ],
 "metadata": {
  "kernelspec": {
   "display_name": "Python 3",
   "language": "python",
   "name": "python3"
  },
  "language_info": {
   "codemirror_mode": {
    "name": "ipython",
    "version": 3
   },
   "file_extension": ".py",
   "mimetype": "text/x-python",
   "name": "python",
   "nbconvert_exporter": "python",
   "pygments_lexer": "ipython3",
   "version": "3.7.3"
  }
 },
 "nbformat": 4,
 "nbformat_minor": 2
}
